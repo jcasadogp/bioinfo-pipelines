{
 "cells": [
  {
   "cell_type": "code",
   "execution_count": 1,
   "id": "2e5bfabd",
   "metadata": {},
   "outputs": [],
   "source": [
    "import pandas as pd"
   ]
  },
  {
   "cell_type": "markdown",
   "id": "3d7345ce",
   "metadata": {},
   "source": [
    "# Burrows-Wheeler Matrix"
   ]
  },
  {
   "cell_type": "code",
   "execution_count": 2,
   "id": "f00d88ca",
   "metadata": {},
   "outputs": [],
   "source": [
    "def rotations(t):\n",
    "    \"\"\" Returns a list of rotations of input string t \"\"\"\n",
    "    tt = t*2\n",
    "    return [tt[i:i+len(t)] for i in range(0, len(t))]\n",
    "\n",
    "def bwm(t):\n",
    "    \"\"\" Returns lexicographically sorted list of t's rotations \"\"\"\n",
    "    return (sorted(rotations(t)))\n",
    "\n",
    "def bwtViaBwm(t):\n",
    "    \"\"\" Given t, returns BWT(t) by way of the BWM \"\"\"\n",
    "    return ''.join(map(lambda x: x[-1], bwm(t)))"
   ]
  },
  {
   "cell_type": "code",
   "execution_count": 3,
   "id": "934ad449",
   "metadata": {},
   "outputs": [
    {
     "data": {
      "text/plain": [
       "'w$wwdd__nnoooaattTmmmrrrrrrooo__ooo'"
      ]
     },
     "execution_count": 3,
     "metadata": {},
     "output_type": "execute_result"
    }
   ],
   "source": [
    "#rotations(\"Tomorrow_and_tomorrow_and_tomorrow$\")\n",
    "#bwm(\"Tomorrow_and_tomorrow_and_tomorrow$\")\n",
    "bwtViaBwm(\"Tomorrow_and_tomorrow_and_tomorrow$\")"
   ]
  },
  {
   "cell_type": "markdown",
   "id": "438eafa5",
   "metadata": {},
   "source": [
    "# Suffix Array"
   ]
  },
  {
   "cell_type": "code",
   "execution_count": 4,
   "id": "47e984db",
   "metadata": {},
   "outputs": [],
   "source": [
    "def suffixArray(s):\n",
    "    \"\"\"Given T return suffix array SA(T). We use Python's sorted function\n",
    "    here for simplicity, but we can do better. \"\"\"\n",
    "    satups = sorted([(s[i:],i) for i in range(0,len(s))])\n",
    "    ## print(pd.DataFrame(satups).head())\n",
    "    # Extract and return just the offsets\n",
    "    return map(lambda x: x[1], satups)\n",
    "\n",
    "def bwtViaSa(t):\n",
    "    \"\"\" Given T, returns BWT(T) by way of the suffix array. \"\"\"\n",
    "    bw = []\n",
    "    for si in suffixArray(t):\n",
    "        if si == 0: bw.append('$')\n",
    "        else: bw.append(t[si-1])\n",
    "    return ''.join(bw) #return string-ized version of the list bw"
   ]
  },
  {
   "cell_type": "code",
   "execution_count": 5,
   "id": "34e9ee01",
   "metadata": {},
   "outputs": [
    {
     "data": {
      "text/plain": [
       "'w$wwdd__nnoooaattTmmmrrrrrrooo__ooo'"
      ]
     },
     "execution_count": 5,
     "metadata": {},
     "output_type": "execute_result"
    }
   ],
   "source": [
    "bwtViaSa(\"Tomorrow_and_tomorrow_and_tomorrow$\")"
   ]
  },
  {
   "cell_type": "code",
   "execution_count": 6,
   "id": "4c6ce548",
   "metadata": {},
   "outputs": [
    {
     "data": {
      "text/plain": [
       "'es$esttssffttww_hhmmbootttt_ii__woeeaaressiI______ '"
      ]
     },
     "execution_count": 6,
     "metadata": {},
     "output_type": "execute_result"
    }
   ],
   "source": [
    "bwtViaSa(\"It_was_the_best_of_times_it_was_the worst_of_times$\")"
   ]
  },
  {
   "cell_type": "code",
   "execution_count": 7,
   "id": "7de7bdf6",
   "metadata": {},
   "outputs": [
    {
     "data": {
      "text/plain": [
       "'u_gleeeengj_mlhl_nnnnt$nwj__lggIolo_iiiiarfcmylo_oo_'"
      ]
     },
     "execution_count": 7,
     "metadata": {},
     "output_type": "execute_result"
    }
   ],
   "source": [
    "bwtViaSa(\"in_the_jingle_jangle_morning_Ill_come_following_you$\")"
   ]
  },
  {
   "cell_type": "code",
   "execution_count": 8,
   "id": "902e4766",
   "metadata": {},
   "outputs": [
    {
     "data": {
      "text/plain": [
       "'ANNB$AA'"
      ]
     },
     "execution_count": 8,
     "metadata": {},
     "output_type": "execute_result"
    }
   ],
   "source": [
    "bwtViaSa('BANANA$')"
   ]
  },
  {
   "cell_type": "markdown",
   "id": "00833be7",
   "metadata": {},
   "source": [
    "# BWT: reversing"
   ]
  },
  {
   "cell_type": "code",
   "execution_count": 9,
   "id": "fbe3b582",
   "metadata": {},
   "outputs": [],
   "source": [
    "def rankBwt(bw):\n",
    "    \"\"\" Given BWT string bw, return parallel list of B-ranks. Also\n",
    "    returns tots: map from character to # times it appears. \"\"\"\n",
    "    tots = dict()\n",
    "    ranks = []\n",
    "    for c in bw:\n",
    "        #print(c, '==>', tots, '___', ranks)\n",
    "        if c not in tots: tots[c] = 0\n",
    "        ranks.append(tots[c])\n",
    "        #print(c, '==>', tots, '___', ranks)\n",
    "        tots[c] += 1\n",
    "        #print(c, '==>', tots, '___', ranks)\n",
    "        #print('')\n",
    "    return ranks, tots\n",
    "\n",
    "def firstCol(tots):\n",
    "    \"\"\" Return map from character to the range of rows prefixed by the character. \"\"\"\n",
    "    first = {}\n",
    "    totc = 0\n",
    "    for c, count in sorted(tots.items()):\n",
    "        \"\"\"\n",
    "        totc: characters before chr c starts\n",
    "        totc+count: characters after chr c finishes\n",
    "        first: range of character c (first, last of it)\n",
    "        \"\"\"\n",
    "        #print('c:',c, ' count:',count, ' totc:',totc, ' totc+count',totc+count)\n",
    "        first[c] = (totc, totc+count)\n",
    "        totc += count\n",
    "    return first\n",
    "\n",
    "def reverseBwt(bw):\n",
    "    \"\"\" Make T from BWT(T) \"\"\"\n",
    "    ranks, tots = rankBwt(bw)\n",
    "    first = firstCol(tots)\n",
    "    \n",
    "    rowi = 0 #start in first row\n",
    "    t = '$'\n",
    "    while bw[rowi] != '$':\n",
    "        c = bw[rowi]\n",
    "        t = c + t #append before previously obtained string\n",
    "        #jump to row that starts with c of the same rank\n",
    "        rowi = first[c][0] + ranks[rowi]\n",
    "    return t"
   ]
  },
  {
   "cell_type": "code",
   "execution_count": 10,
   "id": "2f722814",
   "metadata": {},
   "outputs": [
    {
     "name": "stdout",
     "output_type": "stream",
     "text": [
      "The Burrows-Wheeler Transform of BANANA$ is: ANNB$AA\n"
     ]
    }
   ],
   "source": [
    "string = 'BANANA$'\n",
    "bw = bwtViaSa(string)\n",
    "print('The Burrows-Wheeler Transform of', string, 'is:', bw)"
   ]
  },
  {
   "cell_type": "code",
   "execution_count": 11,
   "id": "e0e0c694",
   "metadata": {},
   "outputs": [
    {
     "name": "stdout",
     "output_type": "stream",
     "text": [
      "[0, 0, 1, 0, 0, 1, 2] {'A': 3, 'N': 2, 'B': 1, '$': 1}\n"
     ]
    }
   ],
   "source": [
    "ranks, tots = rankBwt(bw)\n",
    "print(ranks, tots)"
   ]
  },
  {
   "cell_type": "code",
   "execution_count": 12,
   "id": "98d362a1",
   "metadata": {},
   "outputs": [
    {
     "name": "stdout",
     "output_type": "stream",
     "text": [
      "{'$': (0, 1), 'A': (1, 4), 'B': (4, 5), 'N': (5, 7)}\n"
     ]
    }
   ],
   "source": [
    "first = firstCol(tots)\n",
    "print(first)"
   ]
  },
  {
   "cell_type": "code",
   "execution_count": 15,
   "id": "4456f8f5",
   "metadata": {},
   "outputs": [
    {
     "name": "stdout",
     "output_type": "stream",
     "text": [
      "BANANA$\n"
     ]
    }
   ],
   "source": [
    "T = reverseBwt(bw)\n",
    "print(T)"
   ]
  },
  {
   "cell_type": "code",
   "execution_count": null,
   "id": "8d2e97dd",
   "metadata": {},
   "outputs": [],
   "source": []
  }
 ],
 "metadata": {
  "kernelspec": {
   "display_name": "Python 3",
   "language": "python",
   "name": "python3"
  },
  "language_info": {
   "codemirror_mode": {
    "name": "ipython",
    "version": 3
   },
   "file_extension": ".py",
   "mimetype": "text/x-python",
   "name": "python",
   "nbconvert_exporter": "python",
   "pygments_lexer": "ipython3",
   "version": "3.6.10"
  }
 },
 "nbformat": 4,
 "nbformat_minor": 5
}
